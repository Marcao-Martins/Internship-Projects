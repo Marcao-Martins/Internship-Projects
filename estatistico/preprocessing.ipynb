{
 "cells": [
  {
   "cell_type": "code",
   "execution_count": 2,
   "metadata": {},
   "outputs": [],
   "source": [
    "nome_arquivo_original=r'C:\\Users\\Marcos\\Desktop\\tic\\bases\\DANTES_Large.conllu'\n",
    "nome_arquivo_tratado='DANTES_Large_treated.conllu'"
   ]
  },
  {
   "cell_type": "code",
   "execution_count": 3,
   "metadata": {},
   "outputs": [],
   "source": [
    "def preprocess_conllu(file_path):\n",
    "    # Read the file content\n",
    "    with open(file_path, 'r', encoding='utf-8') as file:\n",
    "        lines = file.readlines()\n",
    "\n",
    "    # Remove empty lines and lines that do not follow the format\n",
    "    cleaned_lines = []\n",
    "    for line in lines:\n",
    "        # Remove leading/trailing whitespace and skip empty lines\n",
    "        line = line.strip()\n",
    "        if line == \"\" or line.startswith(\"#\"):\n",
    "            continue  # Skip empty lines and comments\n",
    "        if \"\\t\" not in line and \"  \" not in line:\n",
    "            print(f\"Skipping invalid line: {line}\")\n",
    "            continue  # Skip lines without tabs or two spaces\n",
    "\n",
    "        # Replace multiple spaces with a single tab to ensure correct formatting\n",
    "        line = \"\\t\".join(line.split())\n",
    "        cleaned_lines.append(line)\n",
    "\n",
    "    # Join cleaned lines back into a single string\n",
    "    cleaned_content = \"\\n\".join(cleaned_lines)\n",
    "    return cleaned_content\n"
   ]
  },
  {
   "cell_type": "code",
   "execution_count": 4,
   "metadata": {},
   "outputs": [],
   "source": [
    "# Função para consolidar linhas 'text=' e todas as subsequentes até encontrar uma linha de token\n",
    "def preprocess_conllu_text(input_path, output_path):\n",
    "    with open(input_path, 'r', encoding='utf-8') as infile, open(output_path, 'w', encoding='utf-8') as outfile:\n",
    "        current_text = None  # Armazena o conteúdo da linha 'text=' consolidada\n",
    "\n",
    "        for line in infile:\n",
    "            # Se a linha começa com '# text =', inicializa a consolidação\n",
    "            if line.startswith('# text ='):\n",
    "                current_text = line.strip()  # Inicia a linha de 'text='\n",
    "            elif current_text and not '\\t' in line:\n",
    "                # Adiciona conteúdo subsequente até a primeira linha de token\n",
    "                current_text += \" \" + line.strip()\n",
    "            else:\n",
    "                # Escreve a linha 'text=' consolidada e redefine a variável\n",
    "                if current_text:\n",
    "                    outfile.write(current_text + \"\\n\")\n",
    "                    current_text = None  # Reseta o temporário\n",
    "                # Escreve linhas de tokens ou outras linhas normais\n",
    "                outfile.write(line)\n",
    "\n",
    "        # Escreve a última linha consolidada de 'text=' se houver\n",
    "        if current_text:\n",
    "            outfile.write(current_text + \"\\n\")\n",
    "\n",
    "preprocess_conllu_text(nome_arquivo_original, 'intermediario.conllu')\n"
   ]
  },
  {
   "cell_type": "code",
   "execution_count": 5,
   "metadata": {},
   "outputs": [],
   "source": [
    "def preprocess_conllu_and_remove_invalid_ids(caminho_arquivo_entrada, caminho_arquivo_saida):\n",
    "    with open(caminho_arquivo_entrada, 'r', encoding='utf-8') as f:\n",
    "        linhas = f.readlines()\n",
    "\n",
    "    with open(caminho_arquivo_saida, 'w', encoding='utf-8') as f_out:\n",
    "        for i, linha in enumerate(linhas, start=1):\n",
    "            # Verifica se a linha é um token e se o ID é apenas um ponto\n",
    "            if not linha.startswith(\"#\") and linha.strip():\n",
    "                campos = linha.split(\"\\t\")\n",
    "                if campos[0].strip() == \".\" or campos[0].strip() == \"..\" or campos[0].strip() == \"...\":\n",
    "                    print(f\"Excluindo linha {i}: {linha.strip()}\")\n",
    "                    continue  # Pula a linha se o ID é um ponto\n",
    "\n",
    "            # Escreve a linha no arquivo de saída se não foi excluída\n",
    "            f_out.write(linha)\n",
    "\n",
    "preprocess_conllu_and_remove_invalid_ids('intermediario.conllu', nome_arquivo_tratado)\n"
   ]
  }
 ],
 "metadata": {
  "kernelspec": {
   "display_name": "Python 3",
   "language": "python",
   "name": "python3"
  },
  "language_info": {
   "codemirror_mode": {
    "name": "ipython",
    "version": 3
   },
   "file_extension": ".py",
   "mimetype": "text/x-python",
   "name": "python",
   "nbconvert_exporter": "python",
   "pygments_lexer": "ipython3",
   "version": "3.12.7"
  }
 },
 "nbformat": 4,
 "nbformat_minor": 2
}
